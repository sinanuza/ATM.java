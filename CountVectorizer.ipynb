{
  "nbformat": 4,
  "nbformat_minor": 0,
  "metadata": {
    "colab": {
      "provenance": [],
      "name": "CountVectorizer.ipynb",
      "authorship_tag": "ABX9TyP9mEei381TCrsxb6n9pHaJ",
      "include_colab_link": true
    },
    "kernelspec": {
      "name": "python3",
      "display_name": "Python 3"
    },
    "language_info": {
      "name": "python"
    }
  },
  "cells": [
    {
      "cell_type": "markdown",
      "metadata": {
        "id": "view-in-github",
        "colab_type": "text"
      },
      "source": [
        "<a href=\"https://colab.research.google.com/github/sinanuza/ATM.java/blob/main/CountVectorizer.ipynb\" target=\"_parent\"><img src=\"https://colab.research.google.com/assets/colab-badge.svg\" alt=\"Open In Colab\"/></a>"
      ]
    },
    {
      "cell_type": "code",
      "execution_count": null,
      "metadata": {
        "id": "1HmGOjznAIFt"
      },
      "outputs": [],
      "source": [
        "import numpy as np\n",
        "import pandas as pd\n",
        "from sklearn.feature_extraction.text import CountVectorizer\n"
      ]
    },
    {
      "cell_type": "code",
      "source": [
        "df=pd.DataFrame()"
      ],
      "metadata": {
        "id": "rdQldPqjfyOs"
      },
      "execution_count": null,
      "outputs": []
    },
    {
      "cell_type": "code",
      "source": [
        "df['cümle']=[\"sinan ata bak\",\"sinan bak ata\",\"sinan bak ata bak\",\"ata bak sinan\",\"sinan sinan ata\",\"sinan ata bak ata bak\",\"burası Türkiye bak\"]"
      ],
      "metadata": {
        "id": "GzMPwZ-Lf3MV"
      },
      "execution_count": null,
      "outputs": []
    },
    {
      "cell_type": "code",
      "source": [
        "cv=CountVectorizer(max_features=5)"
      ],
      "metadata": {
        "id": "O5WkWyjUnNa4"
      },
      "execution_count": null,
      "outputs": []
    },
    {
      "cell_type": "code",
      "source": [
        "a=cv.fit_transform(df['cümle'])"
      ],
      "metadata": {
        "id": "EZKZYbJrnQ01"
      },
      "execution_count": null,
      "outputs": []
    },
    {
      "cell_type": "code",
      "source": [
        "a.toarray()"
      ],
      "metadata": {
        "colab": {
          "base_uri": "https://localhost:8080/"
        },
        "id": "catFOxN4qo-l",
        "outputId": "53ed94f9-32d2-45ce-902a-c0f61518585f"
      },
      "execution_count": null,
      "outputs": [
        {
          "output_type": "execute_result",
          "data": {
            "text/plain": [
              "array([[1, 1, 0, 1, 0],\n",
              "       [1, 1, 0, 1, 0],\n",
              "       [1, 2, 0, 1, 0],\n",
              "       [1, 1, 0, 1, 0],\n",
              "       [1, 0, 0, 2, 0],\n",
              "       [2, 2, 0, 1, 0],\n",
              "       [0, 1, 1, 0, 1]])"
            ]
          },
          "metadata": {},
          "execution_count": 31
        }
      ]
    },
    {
      "cell_type": "code",
      "source": [
        "cv.get_feature_names_out()"
      ],
      "metadata": {
        "colab": {
          "base_uri": "https://localhost:8080/"
        },
        "id": "vl_P639Iqrqu",
        "outputId": "75c2b827-b568-49e7-c091-37e75887712c"
      },
      "execution_count": null,
      "outputs": [
        {
          "output_type": "execute_result",
          "data": {
            "text/plain": [
              "array(['ata', 'bak', 'burası', 'sinan', 'türkiye'], dtype=object)"
            ]
          },
          "metadata": {},
          "execution_count": 32
        }
      ]
    },
    {
      "cell_type": "code",
      "source": [],
      "metadata": {
        "id": "SgBH5lpGwN2v"
      },
      "execution_count": null,
      "outputs": []
    }
  ]
}